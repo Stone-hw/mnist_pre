{
 "cells": [
  {
   "cell_type": "code",
   "execution_count": 21,
   "metadata": {},
   "outputs": [
    {
     "name": "stdout",
     "output_type": "stream",
     "text": [
      "Extracting MNIST_data/train-images-idx3-ubyte.gz\n",
      "Extracting MNIST_data/train-labels-idx1-ubyte.gz\n",
      "Extracting MNIST_data/t10k-images-idx3-ubyte.gz\n",
      "Extracting MNIST_data/t10k-labels-idx1-ubyte.gz\n"
     ]
    }
   ],
   "source": [
    "import tensorflow as tf\n",
    "import random\n",
    "import numpy as np\n",
    "import matplotlib.pyplot as plt\n",
    "from tensorflow.examples.tutorials.mnist import input_data\n",
    "%matplotlib inline\n",
    "mnist = input_data.read_data_sets(\"data/\", one_hot=True)\n",
    "x = tf.placeholder(tf.float32, [None, 784])\n",
    "y_actual = tf.placeholder(tf.float32, shape=[None, 10])\n",
    "W = tf.Variable(tf.zeros([784,10]))        \n",
    "b = tf.Variable(tf.zeros([10]))            #初始化偏置项b\n",
    "y_predict = tf.nn.softmax(tf.matmul(x,W) + b)     #加权变换并进行softmax回归，得到预测概率\n"
   ]
  },
  {
   "cell_type": "code",
   "execution_count": 22,
   "metadata": {
    "collapsed": true
   },
   "outputs": [],
   "source": [
    "train_epochs=50\n",
    "batch_size=100\n",
    "total_batch=int(mnist.train.num_examples/batch_size)\n",
    "display_step=1\n",
    "learning_rate=0.01\n",
    "\n",
    "cross_entropy = tf.reduce_mean(-tf.reduce_sum(y_actual*tf.log(y_predict),reduction_indices=1))   #求交叉熵\n",
    "train_step = tf.train.GradientDescentOptimizer(learning_rate).minimize(cross_entropy)   #用梯度下降法使得残差最小\n",
    "\n",
    "correct_prediction = tf.equal(tf.argmax(y_predict,1), tf.argmax(y_actual,1))   #在测试阶段，测试准确度计算\n",
    "accuracy = tf.reduce_mean(tf.cast(correct_prediction, \"float\"))                #多个批次的准确度均值\n",
    "\n",
    "\n",
    "\n",
    "sess=tf.Session()\n",
    "init=tf.global_variables_initializer()\n",
    "sess.run(init)"
   ]
  },
  {
   "cell_type": "code",
   "execution_count": 23,
   "metadata": {},
   "outputs": [
    {
     "name": "stdout",
     "output_type": "stream",
     "text": [
      "Train Epoch: 01 Loss= 0.753412604 Accuracy= 0.8498\n",
      "Train Epoch: 02 Loss= 0.572765112 Accuracy= 0.8720\n",
      "Train Epoch: 03 Loss= 0.499711901 Accuracy= 0.8800\n",
      "Train Epoch: 04 Loss= 0.458142370 Accuracy= 0.8846\n",
      "Train Epoch: 05 Loss= 0.431026548 Accuracy= 0.8898\n",
      "Train Epoch: 06 Loss= 0.411364049 Accuracy= 0.8922\n",
      "Train Epoch: 07 Loss= 0.396668404 Accuracy= 0.8956\n",
      "Train Epoch: 08 Loss= 0.384493172 Accuracy= 0.8976\n",
      "Train Epoch: 09 Loss= 0.374749035 Accuracy= 0.8984\n",
      "Train Epoch: 10 Loss= 0.366790205 Accuracy= 0.9004\n",
      "Train Epoch: 11 Loss= 0.359605432 Accuracy= 0.9026\n",
      "Train Epoch: 12 Loss= 0.353684217 Accuracy= 0.9042\n",
      "Train Epoch: 13 Loss= 0.348570466 Accuracy= 0.9050\n",
      "Train Epoch: 14 Loss= 0.343925565 Accuracy= 0.9070\n",
      "Train Epoch: 15 Loss= 0.339630604 Accuracy= 0.9084\n",
      "Train Epoch: 16 Loss= 0.336124986 Accuracy= 0.9100\n",
      "Train Epoch: 17 Loss= 0.332507014 Accuracy= 0.9096\n",
      "Train Epoch: 18 Loss= 0.329664767 Accuracy= 0.9110\n",
      "Train Epoch: 19 Loss= 0.326657504 Accuracy= 0.9112\n",
      "Train Epoch: 20 Loss= 0.324127674 Accuracy= 0.9108\n",
      "Train Epoch: 21 Loss= 0.321660966 Accuracy= 0.9122\n",
      "Train Epoch: 22 Loss= 0.319722593 Accuracy= 0.9132\n",
      "Train Epoch: 23 Loss= 0.317430198 Accuracy= 0.9130\n",
      "Train Epoch: 24 Loss= 0.315624863 Accuracy= 0.9136\n",
      "Train Epoch: 25 Loss= 0.313687027 Accuracy= 0.9140\n",
      "Train Epoch: 26 Loss= 0.312193274 Accuracy= 0.9150\n",
      "Train Epoch: 27 Loss= 0.310613483 Accuracy= 0.9148\n",
      "Train Epoch: 28 Loss= 0.309058219 Accuracy= 0.9154\n",
      "Train Epoch: 29 Loss= 0.307594687 Accuracy= 0.9150\n",
      "Train Epoch: 30 Loss= 0.306344837 Accuracy= 0.9158\n",
      "Train Epoch: 31 Loss= 0.305243641 Accuracy= 0.9162\n",
      "Train Epoch: 32 Loss= 0.303816736 Accuracy= 0.9168\n",
      "Train Epoch: 33 Loss= 0.302735388 Accuracy= 0.9172\n",
      "Train Epoch: 34 Loss= 0.301616848 Accuracy= 0.9156\n",
      "Train Epoch: 35 Loss= 0.300314367 Accuracy= 0.9180\n",
      "Train Epoch: 36 Loss= 0.299445659 Accuracy= 0.9172\n",
      "Train Epoch: 37 Loss= 0.298424065 Accuracy= 0.9178\n",
      "Train Epoch: 38 Loss= 0.297781765 Accuracy= 0.9170\n",
      "Train Epoch: 39 Loss= 0.296777844 Accuracy= 0.9176\n",
      "Train Epoch: 40 Loss= 0.295864612 Accuracy= 0.9182\n",
      "Train Epoch: 41 Loss= 0.295203120 Accuracy= 0.9190\n",
      "Train Epoch: 42 Loss= 0.294347435 Accuracy= 0.9188\n",
      "Train Epoch: 43 Loss= 0.293634713 Accuracy= 0.9198\n",
      "Train Epoch: 44 Loss= 0.292987794 Accuracy= 0.9194\n",
      "Train Epoch: 45 Loss= 0.292271078 Accuracy= 0.9202\n",
      "Train Epoch: 46 Loss= 0.291598588 Accuracy= 0.9214\n",
      "Train Epoch: 47 Loss= 0.290935725 Accuracy= 0.9214\n",
      "Train Epoch: 48 Loss= 0.290291429 Accuracy= 0.9216\n",
      "Train Epoch: 49 Loss= 0.289709926 Accuracy= 0.9220\n",
      "Train Epoch: 50 Loss= 0.289322525 Accuracy= 0.9214\n",
      "Train finished\n"
     ]
    }
   ],
   "source": [
    "for epoch in range(train_epochs):\n",
    "    for batch in range(total_batch):            \n",
    "       batch_xs, batch_ys = mnist.train.next_batch(batch_size)          \n",
    "       sess.run(train_step, feed_dict={x: batch_xs, y_actual: batch_ys})   \n",
    "    loss,acc=sess.run([cross_entropy,accuracy],feed_dict={x:mnist.validation.images,y_actual:mnist.validation.labels})\n",
    "    if (epoch+1) % display_step==0:\n",
    "        print(\"Train Epoch:\",'%02d' % (epoch+1),\"Loss=\",\"{:.9f}\".format(loss),\"Accuracy=\",\"{:.4f}\".format(acc))\n",
    "print(\"Train finished\")"
   ]
  },
  {
   "cell_type": "code",
   "execution_count": 15,
   "metadata": {},
   "outputs": [
    {
     "name": "stdout",
     "output_type": "stream",
     "text": [
      "Test Accuracy: 0.9197\n"
     ]
    }
   ],
   "source": [
    "accu_test=sess.run(accuracy,feed_dict={x:mnist.test.images,y_actual:mnist.test.labels})\n",
    "print(\"Test Accuracy:\",accu_test)"
   ]
  },
  {
   "cell_type": "code",
   "execution_count": 20,
   "metadata": {},
   "outputs": [
    {
     "data": {
      "text/plain": [
       "array([7, 2, 1, 0, 4, 1, 4, 9, 6, 9], dtype=int64)"
      ]
     },
     "execution_count": 20,
     "metadata": {},
     "output_type": "execute_result"
    }
   ],
   "source": [
    "pre_result=sess.run(tf.argmax(y_predict,1),feed_dict={x:mnist.test.images})\n",
    "pre_result[0:10]"
   ]
  },
  {
   "cell_type": "code",
   "execution_count": 26,
   "metadata": {
    "collapsed": true
   },
   "outputs": [],
   "source": [
    "def plot_image_pred(images,labels,prediction,index,num=10):\n",
    "    fig=plt.gcf()\n",
    "    fig.set_size_inches(10,12)\n",
    "    if num>20:\n",
    "        num=20\n",
    "    for i in range(0,num):\n",
    "        ax=plt.subplot(5,5,i+1)\n",
    "        ax.imshow(np.reshape(images[index],(28,28)),cmap=\"binary\")\n",
    "        title=\"label=\"+str(np.argmax(labels[index]))\n",
    "        if len(prediction)>0:\n",
    "            title+=\",predict=\"+str(prediction[index])\n",
    "        ax.set_title(title,fontsize=10)\n",
    "        ax.set_xticks([])\n",
    "        ax.set_yticks([])\n",
    "        index+=1\n",
    "    plt.show()"
   ]
  },
  {
   "cell_type": "code",
   "execution_count": 27,
   "metadata": {},
   "outputs": [
    {
     "data": {
      "image/png": "[encoded data removed]",
      "text/plain": [
       "<Figure size 720x864 with 10 Axes>"
      ]
     },
     "metadata": {},
     "output_type": "display_data"
    }
   ],
   "source": [
    "plot_image_pred(mnist.test.images,mnist.test.labels,pre_result,10,10)"
   ]
  },
  {
   "cell_type": "code",
   "execution_count": null,
   "metadata": {
    "collapsed": true
   },
   "outputs": [],
   "source": []
  }
 ],
 "metadata": {
  "kernelspec": {
   "display_name": "Python 3",
   "language": "python",
   "name": "python3"
  },
  "language_info": {
   "codemirror_mode": {
    "name": "ipython",
    "version": 3
   },
   "file_extension": ".py",
   "mimetype": "text/x-python",
   "name": "python",
   "nbconvert_exporter": "python",
   "pygments_lexer": "ipython3",
   "version": "3.6.2"
  }
 },
 "nbformat": 4,
 "nbformat_minor": 2
}
